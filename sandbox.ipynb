{
 "cells": [
  {
   "cell_type": "markdown",
   "metadata": {},
   "source": [
    "# Boilerplate \n",
    "\n",
    "Sandbox for game mechanics, logic, etc."
   ]
  },
  {
   "cell_type": "code",
   "execution_count": 1,
   "metadata": {},
   "outputs": [],
   "source": [
    "from helpers import Bohnanza\n",
    "\n",
    "# start a game instance\n",
    "game1 = Bohnanza(n_players=4)"
   ]
  },
  {
   "cell_type": "code",
   "execution_count": 2,
   "metadata": {},
   "outputs": [],
   "source": [
    "game1.deal()"
   ]
  },
  {
   "cell_type": "code",
   "execution_count": 3,
   "metadata": {},
   "outputs": [
    {
     "data": {
      "text/plain": [
       "{'player_0': {'hand': ['green', 'blue', 'blue', 'blue', 'stink'],\n",
       "  'fields': {'field_a': [], 'field_b': [], 'field_c': None},\n",
       "  'harvest': []},\n",
       " 'player_1': {'hand': ['soy', 'stink', 'blue', 'wax', 'blue'],\n",
       "  'fields': {'field_a': [], 'field_b': [], 'field_c': None},\n",
       "  'harvest': []},\n",
       " 'player_2': {'hand': ['cocoa', 'garden', 'red', 'red', 'wax'],\n",
       "  'fields': {'field_a': [], 'field_b': [], 'field_c': None},\n",
       "  'harvest': []},\n",
       " 'player_3': {'hand': ['blue', 'soy', 'black_eyed', 'green', 'soy'],\n",
       "  'fields': {'field_a': [], 'field_b': [], 'field_c': None},\n",
       "  'harvest': []}}"
      ]
     },
     "execution_count": 3,
     "metadata": {},
     "output_type": "execute_result"
    }
   ],
   "source": [
    "game1.players"
   ]
  },
  {
   "cell_type": "markdown",
   "metadata": {},
   "source": [
    "## Full Deck Definition\n",
    "\n",
    "- Retain a list of names of beans available in the deck \n",
    "- Retain a dictionary that has card:coin ratio\n"
   ]
  },
  {
   "cell_type": "code",
   "execution_count": 1,
   "metadata": {},
   "outputs": [],
   "source": [
    "# card:coin dict \n",
    "d_card_coin = {\n",
    "    \"cocoa\": {2:2, 3:3, 4:4}, \n",
    "    \"garden\": {2:2, 3:3},\n",
    "    \"red\": {2:1, 3:2, 4:3, 5:4}, \n",
    "    \"black_eyed\": {2:1, 4:2, 5:3, 6:4}, \n",
    "    \"soy\": {2:1, 4:2, 6:3, 7:4}, \n",
    "    \"green\": {3:1, 5:2, 6:3, 7:4}, \n",
    "    \"stink\": {3:1, 5:2, 7:3, 8:4}, \n",
    "    \"chili\": {3:1, 6:2, 8:3, 9:4}, \n",
    "    \"blue\": {4:1, 6:2, 8:3, 10:4}, \n",
    "    \"wax\": {4:1, 8:2, 11:3, 13:4}, \n",
    "    \"coffee\": {4:1, 7:2, 10:3, 12:4}\n",
    "}"
   ]
  },
  {
   "cell_type": "code",
   "execution_count": 2,
   "metadata": {},
   "outputs": [
    {
     "name": "stdout",
     "output_type": "stream",
     "text": [
      "Total Cards in Deck: 154\n"
     ]
    }
   ],
   "source": [
    "# instantiate deck list\n",
    "deck = []\n",
    "\n",
    "# fill in full deck\n",
    "deck.extend(\"cocoa\" for i in range(4))\n",
    "deck.extend(\"garden\" for i in range(6))\n",
    "deck.extend(\"red\" for i in range(8))\n",
    "deck.extend(\"black_eyed\" for i in range(10))\n",
    "deck.extend(\"soy\" for i in range(12))\n",
    "deck.extend(\"green\" for i in range(14))\n",
    "deck.extend(\"stink\" for i in range(16))\n",
    "deck.extend(\"chili\" for i in range(18))\n",
    "deck.extend(\"blue\" for i in range(20))\n",
    "deck.extend(\"wax\" for i in range(22))\n",
    "deck.extend(\"coffee\" for i in range(24))\n",
    "\n",
    "print(f\"Total Cards in Deck: {len(deck)}\")"
   ]
  },
  {
   "cell_type": "code",
   "execution_count": 162,
   "metadata": {},
   "outputs": [
    {
     "name": "stdout",
     "output_type": "stream",
     "text": [
      "['cocoa', 'cocoa', 'cocoa', 'cocoa', 'garden', 'garden', 'garden', 'garden', 'garden', 'garden', 'red', 'red', 'red', 'red', 'red', 'red', 'red', 'red', 'black_eyed', 'black_eyed', 'black_eyed', 'black_eyed', 'black_eyed', 'black_eyed', 'black_eyed', 'black_eyed', 'black_eyed', 'black_eyed', 'soy', 'soy', 'soy', 'soy', 'soy', 'soy', 'soy', 'soy', 'soy', 'soy', 'soy', 'soy', 'green', 'green', 'green', 'green', 'green', 'green', 'green', 'green', 'green', 'green', 'green', 'green', 'green', 'green', 'stink', 'stink', 'stink', 'stink', 'stink', 'stink', 'stink', 'stink', 'stink', 'stink', 'stink', 'stink', 'stink', 'stink', 'stink', 'stink', 'chili', 'chili', 'chili', 'chili', 'chili', 'chili', 'chili', 'chili', 'chili', 'chili', 'chili', 'chili', 'chili', 'chili', 'chili', 'chili', 'chili', 'chili', 'blue', 'blue', 'blue', 'blue', 'blue', 'blue', 'blue', 'blue', 'blue', 'blue', 'blue', 'blue', 'blue', 'blue', 'blue', 'blue', 'blue', 'blue', 'blue', 'blue', 'wax', 'wax', 'wax', 'wax', 'wax', 'wax', 'wax', 'wax', 'wax', 'wax', 'wax', 'wax', 'wax', 'wax', 'wax', 'wax', 'wax', 'wax', 'wax', 'wax', 'wax', 'wax', 'coffee', 'coffee', 'coffee', 'coffee', 'coffee', 'coffee', 'coffee', 'coffee', 'coffee', 'coffee', 'coffee', 'coffee', 'coffee', 'coffee', 'coffee', 'coffee', 'coffee', 'coffee', 'coffee', 'coffee', 'coffee', 'coffee', 'coffee', 'coffee']\n"
     ]
    }
   ],
   "source": [
    "print(deck)"
   ]
  },
  {
   "cell_type": "markdown",
   "metadata": {},
   "source": [
    "## Game Setup \n",
    "\n",
    "- Instantiate a deck (account for number of players and beans to use)\n",
    "- Deal each player 5 cards"
   ]
  },
  {
   "cell_type": "code",
   "execution_count": 131,
   "metadata": {},
   "outputs": [
    {
     "name": "stdout",
     "output_type": "stream",
     "text": [
      "Removing Coffee Beans\n",
      "\n",
      "Deck Length: 130\n"
     ]
    }
   ],
   "source": [
    "from helpers import filter_deck\n",
    "\n",
    "# gather user input\n",
    "n_players = int(input(\"How many players: \"))\n",
    "\n",
    "# filter deck accordingly \n",
    "if n_players == 3:\n",
    "    print(\"Removing Cocoa Beans\")\n",
    "    filtered_deck = filter_deck(deck=deck, to_remove=[\"cocoa\"])\n",
    "elif n_players == 4 or n_players == 5:\n",
    "    print(\"Removing Coffee Beans\\n\")\n",
    "    filtered_deck = filter_deck(deck=deck, to_remove=[\"coffee\"])\n",
    "elif n_players == 6 or n_players == 7:\n",
    "    print(\"Removing Cocoa and Garden Beans\")\n",
    "    filtered_deck = filter_deck(deck=deck, to_remove=[\"cocoa\", \"garden\"])\n",
    "else:\n",
    "    print(f\"{n_players} players not currently supported.\")"
   ]
  },
  {
   "cell_type": "code",
   "execution_count": 132,
   "metadata": {},
   "outputs": [],
   "source": [
    "import random \n",
    "\n",
    "# shuffle deck \n",
    "random.shuffle(filtered_deck)"
   ]
  },
  {
   "cell_type": "code",
   "execution_count": 150,
   "metadata": {},
   "outputs": [
    {
     "name": "stdout",
     "output_type": "stream",
     "text": [
      "Dealing 4 starting hands...\n"
     ]
    },
    {
     "data": {
      "text/plain": [
       "{'player_0': {'hand': [],\n",
       "  'fields': {'field_a': [], 'field_b': [], 'field_c': None},\n",
       "  'coins': []},\n",
       " 'player_1': {'hand': [],\n",
       "  'fields': {'field_a': [], 'field_b': [], 'field_c': None},\n",
       "  'coins': []},\n",
       " 'player_2': {'hand': [],\n",
       "  'fields': {'field_a': [], 'field_b': [], 'field_c': None},\n",
       "  'coins': []},\n",
       " 'player_3': {'hand': [],\n",
       "  'fields': {'field_a': [], 'field_b': [], 'field_c': None},\n",
       "  'coins': []}}"
      ]
     },
     "execution_count": 150,
     "metadata": {},
     "output_type": "execute_result"
    }
   ],
   "source": [
    "print(f\"Dealing {n_players} starting hands...\")\n",
    "\n",
    "# create hands dict\n",
    "d_players = {}\n",
    "\n",
    "# create empty hands for each player\n",
    "for i in range(n_players):\n",
    "    # set fields based on player count\n",
    "    if n_players <= 3:\n",
    "        field = {\"field_a\": [], \"field_b\": [], \"field_c\": []}\n",
    "    else:\n",
    "        field = {\"field_a\": [], \"field_b\": [], \"field_c\": None}\n",
    "    # fill in player dict\n",
    "    d_players[f\"player_{i}\"] = {\"hand\": [], \"fields\": field, \"coins\": []}\n",
    "\n",
    "# print hands\n",
    "d_players"
   ]
  },
  {
   "cell_type": "code",
   "execution_count": 151,
   "metadata": {},
   "outputs": [
    {
     "data": {
      "text/plain": [
       "{'player_0': {'hand': ['cocoa', 'black_eyed', 'wax', 'stink', 'chili'],\n",
       "  'fields': {'field_a': [], 'field_b': [], 'field_c': None},\n",
       "  'coins': []},\n",
       " 'player_1': {'hand': ['blue', 'soy', 'stink', 'wax', 'wax'],\n",
       "  'fields': {'field_a': [], 'field_b': [], 'field_c': None},\n",
       "  'coins': []},\n",
       " 'player_2': {'hand': ['stink', 'chili', 'green', 'wax', 'stink'],\n",
       "  'fields': {'field_a': [], 'field_b': [], 'field_c': None},\n",
       "  'coins': []},\n",
       " 'player_3': {'hand': ['black_eyed', 'wax', 'garden', 'stink', 'stink'],\n",
       "  'fields': {'field_a': [], 'field_b': [], 'field_c': None},\n",
       "  'coins': []}}"
      ]
     },
     "execution_count": 151,
     "metadata": {},
     "output_type": "execute_result"
    }
   ],
   "source": [
    "# deal each player 5 cards \n",
    "for i in range(5):\n",
    "    for j in range(n_players):\n",
    "        d_players[f\"player_{j}\"][\"hand\"].append(filtered_deck.pop())\n",
    "\n",
    "# show hands \n",
    "d_players"
   ]
  },
  {
   "cell_type": "markdown",
   "metadata": {},
   "source": [
    "## Phase 1\n",
    "\n",
    "- Plant 1st card into field\n",
    "- Prompt player to plant second if they want \n",
    "- Draw 2 from the deck \n",
    "- Prompt player on keeping/discarding \n",
    "- Mediate Trade \n",
    "- Plant traded beans \n",
    "- Draw 3 new cards"
   ]
  },
  {
   "cell_type": "code",
   "execution_count": 152,
   "metadata": {},
   "outputs": [
    {
     "data": {
      "text/plain": [
       "{'hand': ['cocoa', 'black_eyed', 'wax', 'stink', 'chili'],\n",
       " 'fields': {'field_a': [], 'field_b': [], 'field_c': None},\n",
       " 'coins': []}"
      ]
     },
     "execution_count": 152,
     "metadata": {},
     "output_type": "execute_result"
    }
   ],
   "source": [
    "curr_player = \"player_0\"\n",
    "\n",
    "# assume role of player 0\n",
    "d_players[curr_player]"
   ]
  },
  {
   "cell_type": "code",
   "execution_count": 153,
   "metadata": {},
   "outputs": [],
   "source": [
    "test = d_players.copy()"
   ]
  },
  {
   "cell_type": "code",
   "execution_count": 154,
   "metadata": {},
   "outputs": [
    {
     "data": {
      "text/plain": [
       "{'hand': ['cocoa', 'black_eyed', 'wax', 'stink', 'chili'],\n",
       " 'fields': {'field_a': [], 'field_b': [], 'field_c': None},\n",
       " 'coins': []}"
      ]
     },
     "execution_count": 154,
     "metadata": {},
     "output_type": "execute_result"
    }
   ],
   "source": [
    "test[curr_player]"
   ]
  },
  {
   "cell_type": "code",
   "execution_count": 155,
   "metadata": {},
   "outputs": [
    {
     "name": "stdout",
     "output_type": "stream",
     "text": [
      "player_0 first card: chili\n"
     ]
    }
   ],
   "source": [
    "# grab first card \n",
    "first_card = test[curr_player][\"hand\"].pop()\n",
    "print(f\"{curr_player} first card: {first_card}\")"
   ]
  },
  {
   "cell_type": "code",
   "execution_count": 156,
   "metadata": {},
   "outputs": [
    {
     "name": "stdout",
     "output_type": "stream",
     "text": [
      "--- YOUR FIELDS ---\n",
      "{'field_a': [], 'field_b': [], 'field_c': None}\n",
      "\n",
      "\n",
      "chili does not match field field_a\n",
      "chili does not match field field_b\n",
      "field_c unavailable.\n"
     ]
    }
   ],
   "source": [
    "# show the player their fields \n",
    "print(\"--- YOUR FIELDS ---\")\n",
    "print(test[curr_player][\"fields\"])\n",
    "print(\"\\n\")\n",
    "\n",
    "# check to see if the bean is already planted \n",
    "for key, value in test[curr_player][\"fields\"].items():\n",
    "    # if field is None, continue\n",
    "    if value is None:\n",
    "        print(f\"{key} unavailable.\") #TODO: add field purchase logic\n",
    "        continue\n",
    "    # if field is available check to see if the bean is planted already\n",
    "    else:\n",
    "        if first_card in field:\n",
    "            print(f\"{first_card} field found! Adding card to {key}\")\n",
    "        else:\n",
    "            print(f\"{first_card} does not match field {key}\")\n"
   ]
  },
  {
   "cell_type": "code",
   "execution_count": 157,
   "metadata": {},
   "outputs": [],
   "source": [
    "res = input(f\"In which field would you like to plant your {first_card} bean? Field A, B, or C? You MUST plant this card.\")"
   ]
  },
  {
   "cell_type": "code",
   "execution_count": 158,
   "metadata": {},
   "outputs": [
    {
     "name": "stdout",
     "output_type": "stream",
     "text": [
      "Planting card\n"
     ]
    }
   ],
   "source": [
    "field_res = f\"field_{res.lower()}\"\n",
    "\n",
    "# if field is empty, plant the bean\n",
    "if len(test[curr_player][\"fields\"][field_res]) == 0:\n",
    "    print(\"Planting card\")\n",
    "    test[curr_player][\"fields\"][field_res].append(first_card)\n",
    "# field is occupied\n",
    "elif len(test[curr_player][\"fields\"][field_res]) != 0:\n",
    "    print(\"An early harvest!\") #TODO: write uproot logic\n",
    "    test[curr_player][\"fields\"][field_res].append(first_card)\n",
    "# field is not purchased \n",
    "if test[curr_player][\"fields\"][field_res] is None:\n",
    "    res = input(\"Are you sure you'd like to purchase a new field?\")\n",
    "    if res.lower() == \"yes\":\n",
    "        if len(test[curr_player][\"coins\"]) >= 3:\n",
    "            test[curr_player][\"fields\"][field_res].append(first_card)\n",
    "            test[curr_player][\"coins\"][:len(test[curr_player][\"coins\"]) - 3]\n",
    "        else:\n",
    "            print(\"Uh-oh! You either don't have enough coins! Select a field to uproot\") #TODO: design feedback loop\n",
    "    elif res.lower() == \"no\":\n",
    "        print(\"Let's try again\") #TODO: design antoher feedback loop "
   ]
  },
  {
   "cell_type": "code",
   "execution_count": 161,
   "metadata": {},
   "outputs": [
    {
     "data": {
      "text/plain": [
       "{'hand': ['cocoa', 'black_eyed', 'wax', 'stink'],\n",
       " 'fields': {'field_a': ['chili'], 'field_b': [], 'field_c': None},\n",
       " 'coins': []}"
      ]
     },
     "execution_count": 161,
     "metadata": {},
     "output_type": "execute_result"
    }
   ],
   "source": [
    "test[curr_player]"
   ]
  },
  {
   "cell_type": "code",
   "execution_count": null,
   "metadata": {},
   "outputs": [],
   "source": [
    "# prompt player for second plant \n",
    "second_card = test[curr_player][\"hand\"].pop()\n",
    "\n",
    "res = input(f\"The next bean in your queue is a {second_card} bean. Would you like to plant it?\")"
   ]
  }
 ],
 "metadata": {
  "kernelspec": {
   "display_name": "base",
   "language": "python",
   "name": "python3"
  },
  "language_info": {
   "codemirror_mode": {
    "name": "ipython",
    "version": 3
   },
   "file_extension": ".py",
   "mimetype": "text/x-python",
   "name": "python",
   "nbconvert_exporter": "python",
   "pygments_lexer": "ipython3",
   "version": "3.11.4"
  },
  "orig_nbformat": 4
 },
 "nbformat": 4,
 "nbformat_minor": 2
}
